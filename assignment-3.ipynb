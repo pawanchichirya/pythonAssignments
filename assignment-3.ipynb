{
  "nbformat": 4,
  "nbformat_minor": 0,
  "metadata": {
    "colab": {
      "name": "3.ipynb",
      "provenance": [],
      "collapsed_sections": []
    },
    "kernelspec": {
      "name": "python3",
      "display_name": "Python 3"
    },
    "language_info": {
      "name": "python"
    }
  },
  "cells": [
    {
      "cell_type": "code",
      "execution_count": null,
      "metadata": {
        "colab": {
          "base_uri": "https://localhost:8080/"
        },
        "id": "u4K61nzcylYc",
        "outputId": "59995de5-9e42-476e-c5ae-b179f83b8d2e"
      },
      "outputs": [
        {
          "output_type": "stream",
          "name": "stdout",
          "text": [
            "enter a valid int num: 55\n",
            "55 <class 'str'>\n"
          ]
        }
      ],
      "source": [
        "#num to str\n",
        "n=int(input(\"enter a valid int num: \"))\n",
        "output=str(n)\n",
        "print(output, type(output))"
      ]
    },
    {
      "cell_type": "code",
      "source": [
        "#print unicode of 'm'\n",
        "print(ord('m'))"
      ],
      "metadata": {
        "colab": {
          "base_uri": "https://localhost:8080/"
        },
        "id": "zawb0Wfcys-H",
        "outputId": "55587cd4-8a06-496e-fbad-dfc91a998ca7"
      },
      "execution_count": null,
      "outputs": [
        {
          "output_type": "stream",
          "name": "stdout",
          "text": [
            "109\n"
          ]
        }
      ]
    },
    {
      "cell_type": "code",
      "source": [
        "#char representation of unicode 100\n",
        "print(chr(100))"
      ],
      "metadata": {
        "colab": {
          "base_uri": "https://localhost:8080/"
        },
        "id": "BkqkejdeyvJb",
        "outputId": "edd0520a-75ed-450f-e6db-0931493b1a68"
      },
      "execution_count": null,
      "outputs": [
        {
          "output_type": "stream",
          "name": "stdout",
          "text": [
            "d\n"
          ]
        }
      ]
    },
    {
      "cell_type": "code",
      "source": [
        "#print num and its binary equivalent\n",
        "num=int(input(\"pls enter valid integer number\"))\n",
        "print(num, bin(num), sep=\"---->\")"
      ],
      "metadata": {
        "colab": {
          "base_uri": "https://localhost:8080/"
        },
        "id": "cAyLY0hZyzyQ",
        "outputId": "7fafc93f-620a-4ff4-83cf-6e889012ef12"
      },
      "execution_count": null,
      "outputs": [
        {
          "output_type": "stream",
          "name": "stdout",
          "text": [
            "pls enter valid integer number10\n",
            "10---->0b1010\n"
          ]
        }
      ]
    },
    {
      "cell_type": "code",
      "source": [
        "#print num and its octal equivalent\n",
        "num=int(input(\"pls enter valid integer number\"))\n",
        "print(num, oct(num), sep=\"---->\")"
      ],
      "metadata": {
        "colab": {
          "base_uri": "https://localhost:8080/"
        },
        "id": "Y5QBSSMWy3h_",
        "outputId": "ba929c3d-936b-4315-927c-4063d6d902ed"
      },
      "execution_count": null,
      "outputs": [
        {
          "output_type": "stream",
          "name": "stdout",
          "text": [
            "pls enter valid integer number10\n",
            "10---->0o12\n"
          ]
        }
      ]
    },
    {
      "cell_type": "code",
      "source": [
        "#print num and its hexadecimal equivalent\n",
        "num=int(input(\"pls enter valid integer number\"))\n",
        "print(num, hex(num), sep=\"---->\")"
      ],
      "metadata": {
        "colab": {
          "base_uri": "https://localhost:8080/"
        },
        "id": "RJ6iFwg8y6wj",
        "outputId": "aaf94ac0-c951-4995-96c7-9679586c24a4"
      },
      "execution_count": null,
      "outputs": [
        {
          "output_type": "stream",
          "name": "stdout",
          "text": [
            "pls enter valid integer number10\n",
            "10---->0xa\n"
          ]
        }
      ]
    },
    {
      "cell_type": "code",
      "source": [
        "#store 1100101 in variable and print its decimal value\n",
        "n=0b1100101\n",
        "print(n)"
      ],
      "metadata": {
        "colab": {
          "base_uri": "https://localhost:8080/"
        },
        "id": "kqSH9ntAy9hn",
        "outputId": "10daa6c3-6094-4806-c17d-fce5aa03cbb5"
      },
      "execution_count": null,
      "outputs": [
        {
          "output_type": "stream",
          "name": "stdout",
          "text": [
            "101\n"
          ]
        }
      ]
    },
    {
      "cell_type": "code",
      "source": [
        "#store 2F (hexa) into variable and print in octal form\n",
        "n=0x2F\n",
        "print(oct(n))"
      ],
      "metadata": {
        "colab": {
          "base_uri": "https://localhost:8080/"
        },
        "id": "ZG2wm0-zzE9h",
        "outputId": "77f4375c-f222-4986-ea93-31b0e2737807"
      },
      "execution_count": null,
      "outputs": [
        {
          "output_type": "stream",
          "name": "stdout",
          "text": [
            "0o57\n"
          ]
        }
      ]
    },
    {
      "cell_type": "code",
      "source": [
        "#store octal 125 and print in binary\n",
        "n=0o125\n",
        "print(bin(n))"
      ],
      "metadata": {
        "colab": {
          "base_uri": "https://localhost:8080/"
        },
        "id": "gTpPxsE_zNic",
        "outputId": "780fec7e-bcf6-4ba0-a843-14a9b4828946"
      },
      "execution_count": null,
      "outputs": [
        {
          "output_type": "stream",
          "name": "stdout",
          "text": [
            "0b1010101\n"
          ]
        }
      ]
    },
    {
      "cell_type": "code",
      "source": [
        "#add 25(octal) and 39(hexa) and display result in binary\n",
        "a=0o25\n",
        "b=0x39\n",
        "print(bin(a+b))"
      ],
      "metadata": {
        "colab": {
          "base_uri": "https://localhost:8080/"
        },
        "id": "nc8599l1zSfT",
        "outputId": "110759f7-6e01-4550-c0ae-bc3672b20f0a"
      },
      "execution_count": null,
      "outputs": [
        {
          "output_type": "stream",
          "name": "stdout",
          "text": [
            "0b1001110\n"
          ]
        }
      ]
    },
    {
      "cell_type": "code",
      "source": [
        ""
      ],
      "metadata": {
        "id": "4Dm8BjrszZfz"
      },
      "execution_count": null,
      "outputs": []
    }
  ]
}