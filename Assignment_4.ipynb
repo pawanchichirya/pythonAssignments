{
  "nbformat": 4,
  "nbformat_minor": 0,
  "metadata": {
    "colab": {
      "name": "Assignment-4.ipynb",
      "provenance": [],
      "collapsed_sections": []
    },
    "kernelspec": {
      "name": "python3",
      "display_name": "Python 3"
    },
    "language_info": {
      "name": "python"
    }
  },
  "cells": [
    {
      "cell_type": "code",
      "execution_count": null,
      "metadata": {
        "colab": {
          "base_uri": "https://localhost:8080/"
        },
        "id": "LU-fseeMme7r",
        "outputId": "fb7c64aa-4778-4263-8619-7d8ff94d9df1"
      },
      "outputs": [
        {
          "output_type": "stream",
          "name": "stdout",
          "text": [
            "please enter your name: pawan\n",
            "pawan\n"
          ]
        }
      ],
      "source": [
        "name=input(\"please enter your name: \")\n",
        "print(name)"
      ]
    },
    {
      "cell_type": "code",
      "source": [
        "num=int(input(\"please enter a number: \"))\n",
        "print(num)"
      ],
      "metadata": {
        "colab": {
          "base_uri": "https://localhost:8080/"
        },
        "id": "exMhXWHHmqJt",
        "outputId": "134fd07a-6917-4311-d1ff-be3491adf545"
      },
      "execution_count": null,
      "outputs": [
        {
          "output_type": "stream",
          "name": "stdout",
          "text": [
            "please enter a number: 8795647\n",
            "8795647\n"
          ]
        }
      ]
    },
    {
      "cell_type": "code",
      "source": [
        "num1=int(input(\"please enter first number: \"))\n",
        "num2=int(input(\"please enter second number: \"))\n",
        "print(\"Sum is :\",num1+num2)"
      ],
      "metadata": {
        "colab": {
          "base_uri": "https://localhost:8080/"
        },
        "id": "Nna3KFmimz64",
        "outputId": "0f372049-3348-4386-f835-ebd525857d82"
      },
      "execution_count": null,
      "outputs": [
        {
          "output_type": "stream",
          "name": "stdout",
          "text": [
            "please enter first number: 99\n",
            "please enter second number: 12\n",
            "Sum is : 111\n"
          ]
        }
      ]
    },
    {
      "cell_type": "code",
      "source": [
        "import math\n",
        "radius=float(input(\"please enter the radius of circle: \"))\n",
        "area=math.pi*(radius**2)\n",
        "print(area)"
      ],
      "metadata": {
        "colab": {
          "base_uri": "https://localhost:8080/"
        },
        "id": "IaQIXJi9nDY9",
        "outputId": "4fe4959a-9fee-4675-b2bf-ae034611362d"
      },
      "execution_count": null,
      "outputs": [
        {
          "output_type": "stream",
          "name": "stdout",
          "text": [
            "please enter the radius of circle: 4\n",
            "50.26548245743669\n"
          ]
        }
      ]
    },
    {
      "cell_type": "code",
      "source": [
        "num=int(input(\"please enter the number: \"))\n",
        "print(num**2)"
      ],
      "metadata": {
        "id": "RRIbCn1MnVvX",
        "colab": {
          "base_uri": "https://localhost:8080/"
        },
        "outputId": "d0bb8bfa-9b80-4c3b-bc47-bb64330c4a26"
      },
      "execution_count": null,
      "outputs": [
        {
          "output_type": "stream",
          "name": "stdout",
          "text": [
            "please enter the number: 7\n",
            "49\n"
          ]
        }
      ]
    },
    {
      "cell_type": "code",
      "source": [
        "#area of triangle\n",
        "base=float(input(\"please enter the base of triangle: \"))\n",
        "height=float(input(\"please enter the height of triangle: \"))\n",
        "print(0.5*base*height)"
      ],
      "metadata": {
        "colab": {
          "base_uri": "https://localhost:8080/"
        },
        "id": "hiEKXcWB9LXN",
        "outputId": "3be5094d-a281-47bd-8510-ce034b890e8e"
      },
      "execution_count": null,
      "outputs": [
        {
          "output_type": "stream",
          "name": "stdout",
          "text": [
            "please enter the base of triangle: 2\n",
            "please enter the height of triangle: 2\n",
            "2.0\n"
          ]
        }
      ]
    },
    {
      "cell_type": "code",
      "source": [
        "#avg of 3 nums\n",
        "num1=float(input(\"please enter num 1: \"))\n",
        "num2=float(input(\"please enter num 2: \"))\n",
        "num3=float(input(\"please enter num 3: \"))\n",
        "print((num1+num2+num3)/3)"
      ],
      "metadata": {
        "colab": {
          "base_uri": "https://localhost:8080/"
        },
        "id": "9nmDNwWA9al5",
        "outputId": "b71a2874-2df5-4d97-bccb-e53f37e9c972"
      },
      "execution_count": null,
      "outputs": [
        {
          "output_type": "stream",
          "name": "stdout",
          "text": [
            "please enter num 1: 2\n",
            "please enter num 2: 3\n",
            "please enter num 3: 4\n",
            "3.0\n"
          ]
        }
      ]
    },
    {
      "cell_type": "code",
      "source": [
        "#simple interest\n",
        "principal=float(input(\"please enter principal: \"))\n",
        "roi=float(input(\"please enter roi: \"))\n",
        "time=float(input(\"please enter time: \"))\n",
        "si=(principal*roi*time)/100\n",
        "print(si)"
      ],
      "metadata": {
        "colab": {
          "base_uri": "https://localhost:8080/"
        },
        "id": "qGrMdM4y9ctr",
        "outputId": "b8c34cde-faaa-4f69-e045-637d9e308112"
      },
      "execution_count": null,
      "outputs": [
        {
          "output_type": "stream",
          "name": "stdout",
          "text": [
            "please enter principal: 10000\n",
            "please enter roi: 4\n",
            "please enter time: 3\n",
            "1200.0\n"
          ]
        }
      ]
    },
    {
      "cell_type": "code",
      "source": [
        "#volume of cuboid\n",
        "length=float(input(\"please enter length: \"))\n",
        "width=float(input(\"please enter width: \"))\n",
        "height=float(input(\"please enter height: \"))\n",
        "print(length*width*height)"
      ],
      "metadata": {
        "colab": {
          "base_uri": "https://localhost:8080/"
        },
        "id": "k73qZgTw9e8V",
        "outputId": "53f04aad-b71c-4993-ce38-ee6a2c364477"
      },
      "execution_count": null,
      "outputs": [
        {
          "output_type": "stream",
          "name": "stdout",
          "text": [
            "please enter length: 10\n",
            "please enter width: 4.5\n",
            "please enter height: 10\n",
            "450.0\n"
          ]
        }
      ]
    },
    {
      "cell_type": "code",
      "source": [
        "#are of rectangle\n",
        "length=float(input(\"please enter length: \"))\n",
        "width=float(input(\"please enter width: \"))\n",
        "print(length*width)"
      ],
      "metadata": {
        "colab": {
          "base_uri": "https://localhost:8080/"
        },
        "id": "B2G3L-mB9hWL",
        "outputId": "25172271-15eb-4db8-a018-858054228f1c"
      },
      "execution_count": null,
      "outputs": [
        {
          "output_type": "stream",
          "name": "stdout",
          "text": [
            "please enter length: 4.5\n",
            "please enter width: 2.5\n",
            "11.25\n"
          ]
        }
      ]
    },
    {
      "cell_type": "code",
      "source": [
        ""
      ],
      "metadata": {
        "id": "3boU9GI_DqfT"
      },
      "execution_count": null,
      "outputs": []
    }
  ]
}